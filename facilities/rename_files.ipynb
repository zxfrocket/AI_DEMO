{
 "cells": [
  {
   "cell_type": "code",
   "execution_count": 7,
   "metadata": {},
   "outputs": [],
   "source": [
    "import os\n",
    "\n",
    "old_path = os.getcwd()\n",
    "new_path = 'D:\\\\徐小湛《线性代数》'\n",
    "os.chdir(new_path)\n",
    "prefix = '_标清'\n",
    "for root, dirs, files in os.walk(new_path):\n",
    "    for name in files:        \n",
    "        if(name.find(prefix) == -1):\n",
    "            print(name)\n",
    "            continue\n",
    "        new_name = name.replace(prefix, '')\n",
    "        os.rename(name, new_name)\n",
    "os.chdir(old_path)"
   ]
  }
 ],
 "metadata": {
  "kernelspec": {
   "display_name": "Python 3",
   "language": "python",
   "name": "python3"
  },
  "language_info": {
   "codemirror_mode": {
    "name": "ipython",
    "version": 3
   },
   "file_extension": ".py",
   "mimetype": "text/x-python",
   "name": "python",
   "nbconvert_exporter": "python",
   "pygments_lexer": "ipython3",
   "version": "3.6.5"
  }
 },
 "nbformat": 4,
 "nbformat_minor": 2
}
