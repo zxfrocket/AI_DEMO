{
 "cells": [
  {
   "cell_type": "code",
   "execution_count": 21,
   "metadata": {},
   "outputs": [],
   "source": [
    "import os\n",
    "\n",
    "old_path = os.getcwd()\n",
    "new_path = 'C:\\\\Users\\\\xzhou\\\\Videos\\\\高等数学精讲(川大徐小湛)'\n",
    "os.chdir(new_path)\n",
    "for root, dirs, files in os.walk(new_path):\n",
    "    for name in files:\n",
    "        new_name = name.replace('[www.17zixueba.com]', '')\n",
    "        arr1 = new_name.split('第')\n",
    "        if(arr1[0] != ''):\n",
    "            break\n",
    "        arr2 = arr1[1].split('讲')\n",
    "        index = arr2[0]\n",
    "        key_str = index.zfill(3)\n",
    "        new_name = key_str + new_name\n",
    "        os.rename(name, new_name)\n",
    "os.chdir(old_path)"
   ]
  }
 ],
 "metadata": {
  "kernelspec": {
   "display_name": "Python 3",
   "language": "python",
   "name": "python3"
  },
  "language_info": {
   "codemirror_mode": {
    "name": "ipython",
    "version": 3
   },
   "file_extension": ".py",
   "mimetype": "text/x-python",
   "name": "python",
   "nbconvert_exporter": "python",
   "pygments_lexer": "ipython3",
   "version": "3.6.5"
  }
 },
 "nbformat": 4,
 "nbformat_minor": 2
}
